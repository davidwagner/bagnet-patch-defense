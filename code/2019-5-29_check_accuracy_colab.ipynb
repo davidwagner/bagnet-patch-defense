{
 "cells": [
  {
   "cell_type": "markdown",
   "metadata": {
    "colab_type": "text",
    "id": "RLgOsHnEMDHk"
   },
   "source": [
    "- **Date:** 2019-5-29\n",
    "- **Author:** Zhanyuan Zhang\n",
    "- **Purpose:** Reproduce the accuracy in the paper\n",
    "- **References:** \n",
    "    - Create ImageFolder instance for ImageNet validation data set.: https://pytorch.org/docs/stable/torchvision/datasets.html#imagenet\n",
    "    - Create data loader: https://github.com/pytorch/examples/blob/97304e232807082c2e7b54c597615dc0ad8f6173/imagenet/main.py#L218\n",
    "\n"
   ]
  },
  {
   "cell_type": "code",
   "execution_count": 0,
   "metadata": {
    "colab": {},
    "colab_type": "code",
    "id": "BUQIPUtLziLg"
   },
   "outputs": [],
   "source": [
    "%load_ext autoreload\n",
    "%autoreload 2"
   ]
  },
  {
   "cell_type": "code",
   "execution_count": 4,
   "metadata": {
    "colab": {
     "base_uri": "https://localhost:8080/",
     "height": 34
    },
    "colab_type": "code",
    "executionInfo": {
     "elapsed": 1819,
     "status": "ok",
     "timestamp": 1559183748665,
     "user": {
      "displayName": "Zhanyuan Zhang",
      "photoUrl": "",
      "userId": "08335047249365894118"
     },
     "user_tz": 420
    },
    "id": "Vvf4mZBI14kD",
    "outputId": "aa5794fe-3344-41df-f56d-fc157aa8ea95"
   },
   "outputs": [
    {
     "name": "stdout",
     "output_type": "stream",
     "text": [
      "Tesla T4\n"
     ]
    }
   ],
   "source": [
    "from bagnets.utils import plot_heatmap, generate_heatmap_pytorch\n",
    "from bagnets.utils import pad_image, convert2channel_last, imagenet_preprocess, extract_patches, bagnet_predict, compare_heatmap\n",
    "from bagnets.utils import bagnet33_debug, plot_saliency, compute_saliency_map\n",
    "from foolbox.utils import samples\n",
    "import bagnets.pytorch\n",
    "import numpy as np\n",
    "import matplotlib.pyplot as plt\n",
    "import torch\n",
    "import torch.nn as nn\n",
    "import torch.nn.functional as F\n",
    "import torchvision.transforms as transforms\n",
    "import torchvision.datasets as datasets\n",
    "import numpy as np\n",
    "import time\n",
    "import os\n",
    "import cv2\n",
    "img_path = \"./ILSVRC2012_img_val\"\n",
    "root = \"./\"\n",
    "use_cuda = torch.cuda.is_available()\n",
    "device = torch.device(\"cuda:0\" if use_cuda else \"cpu\")\n",
    "if use_cuda:\n",
    "    print(torch.cuda.get_device_name(0))"
   ]
  },
  {
   "cell_type": "code",
   "execution_count": 0,
   "metadata": {
    "colab": {},
    "colab_type": "code",
    "id": "21b5vjRMhmse"
   },
   "outputs": [],
   "source": [
    "# load pretrained model\n",
    "bagnet33 = bagnets.pytorch.bagnet33(pretrained=True).to(device)\n",
    "bagnet17 = bagnets.pytorch.bagnet17(pretrained=True).to(device)"
   ]
  },
  {
   "cell_type": "code",
   "execution_count": 0,
   "metadata": {
    "colab": {},
    "colab_type": "code",
    "id": "WVDA0DLTitfv"
   },
   "outputs": [],
   "source": [
    "def get_topk_acc(y_hat, y):\n",
    "    \"\"\" Compute top-k accuracy\n",
    "    Input:\n",
    "    - y_hat: numpy array with shape (batchsize, K). top-k prediction classes\n",
    "    - y: numpy array with shape(batchsize, ). target classes\n",
    "    Return: top-k accuracy\n",
    "    \"\"\"\n",
    "    is_correct = [y[i] in y_hat[i] for i in range(y.size)]\n",
    "    is_correct = np.array(is_correct)\n",
    "    return is_correct.sum()/y.size"
   ]
  },
  {
   "cell_type": "code",
   "execution_count": 0,
   "metadata": {
    "colab": {},
    "colab_type": "code",
    "id": "L2TMpDdODr0j"
   },
   "outputs": [],
   "source": [
    "bs = 20\n",
    "original, label = samples(dataset='imagenet', index=1, batchsize=bs, shape=(224, 224), data_format='channels_first')\n",
    "\n",
    "# preprocess sample image\n",
    "images = imagenet_preprocess(original)\n",
    "images = torch.from_numpy(images).to(device)"
   ]
  },
  {
   "cell_type": "code",
   "execution_count": 8,
   "metadata": {
    "colab": {
     "base_uri": "https://localhost:8080/",
     "height": 51
    },
    "colab_type": "code",
    "executionInfo": {
     "elapsed": 6697,
     "status": "ok",
     "timestamp": 1559183753613,
     "user": {
      "displayName": "Zhanyuan Zhang",
      "photoUrl": "",
      "userId": "08335047249365894118"
     },
     "user_tz": 420
    },
    "id": "_YGBPs59EcQC",
    "outputId": "01881495-3689-4682-998b-05a4548cfe7b"
   },
   "outputs": [
    {
     "data": {
      "text/plain": [
       "array([559, 438, 990, 949, 853, 609, 609, 915, 455, 541, 630, 741, 471,\n",
       "       129,  99, 251,  22, 317, 305, 243])"
      ]
     },
     "execution_count": 8,
     "metadata": {
      "tags": []
     },
     "output_type": "execute_result"
    }
   ],
   "source": [
    "label"
   ]
  },
  {
   "cell_type": "code",
   "execution_count": 9,
   "metadata": {
    "colab": {
     "base_uri": "https://localhost:8080/",
     "height": 34
    },
    "colab_type": "code",
    "executionInfo": {
     "elapsed": 7308,
     "status": "ok",
     "timestamp": 1559183754238,
     "user": {
      "displayName": "Zhanyuan Zhang",
      "photoUrl": "",
      "userId": "08335047249365894118"
     },
     "user_tz": 420
    },
    "id": "MxPplb0sEVb-",
    "outputId": "e9ced2c1-8092-485a-f2cf-3d83d14f1d56"
   },
   "outputs": [
    {
     "name": "stdout",
     "output_type": "stream",
     "text": [
      "top-5 accuracy on 20 ImageNet samples from foolbox: 1.0\n"
     ]
    }
   ],
   "source": [
    "y_hat = bagnet_predict(bagnet33, images, k=5)\n",
    "acc = get_topk_acc(y_hat, label)\n",
    "print('top-5 accuracy on 20 ImageNet samples from foolbox: {}'.format(acc))"
   ]
  },
  {
   "cell_type": "code",
   "execution_count": 10,
   "metadata": {
    "colab": {
     "base_uri": "https://localhost:8080/",
     "height": 357
    },
    "colab_type": "code",
    "executionInfo": {
     "elapsed": 7294,
     "status": "ok",
     "timestamp": 1559183754244,
     "user": {
      "displayName": "Zhanyuan Zhang",
      "photoUrl": "",
      "userId": "08335047249365894118"
     },
     "user_tz": 420
    },
    "id": "3270mPCTEiCV",
    "outputId": "8fe0a3e4-c7b1-4349-c745-54276a64e86b"
   },
   "outputs": [
    {
     "data": {
      "text/plain": [
       "array([[559, 694, 532, 554, 540],\n",
       "       [438, 441, 680, 647, 720],\n",
       "       [990, 988, 924, 937, 997],\n",
       "       [949, 927, 928, 644, 957],\n",
       "       [853, 912, 425, 716, 825],\n",
       "       [609, 654, 656, 436, 757],\n",
       "       [751, 609, 817, 511, 479],\n",
       "       [915, 672, 410, 879, 660],\n",
       "       [455, 539, 911, 658, 735],\n",
       "       [541, 423, 576, 424, 653],\n",
       "       [636, 630, 748, 893, 709],\n",
       "       [741, 406, 497, 668, 884],\n",
       "       [471, 703, 506, 535, 835],\n",
       "       [129, 132, 733,  23, 127],\n",
       "       [ 99, 100,   9,  23,   8],\n",
       "       [251, 246, 290, 275, 210],\n",
       "       [ 22,  80, 128,  21, 146],\n",
       "       [317, 316, 113, 311, 307],\n",
       "       [302, 305, 304, 300, 306],\n",
       "       [243, 242, 163, 159, 246]])"
      ]
     },
     "execution_count": 10,
     "metadata": {
      "tags": []
     },
     "output_type": "execute_result"
    }
   ],
   "source": [
    "y_hat"
   ]
  },
  {
   "cell_type": "code",
   "execution_count": 11,
   "metadata": {
    "colab": {
     "base_uri": "https://localhost:8080/",
     "height": 51
    },
    "colab_type": "code",
    "executionInfo": {
     "elapsed": 7285,
     "status": "ok",
     "timestamp": 1559183754247,
     "user": {
      "displayName": "Zhanyuan Zhang",
      "photoUrl": "",
      "userId": "08335047249365894118"
     },
     "user_tz": 420
    },
    "id": "KunGhz05Ek-0",
    "outputId": "9acd7a34-cc79-4f58-e860-5280f84cbfd7"
   },
   "outputs": [
    {
     "data": {
      "text/plain": [
       "array([559, 438, 990, 949, 853, 609, 609, 915, 455, 541, 630, 741, 471,\n",
       "       129,  99, 251,  22, 317, 305, 243])"
      ]
     },
     "execution_count": 11,
     "metadata": {
      "tags": []
     },
     "output_type": "execute_result"
    }
   ],
   "source": [
    "label"
   ]
  },
  {
   "cell_type": "code",
   "execution_count": 0,
   "metadata": {
    "colab": {},
    "colab_type": "code",
    "id": "Eufw_9w8EpAk"
   },
   "outputs": [],
   "source": [
    "def cvload(path):\n",
    "    img = cv2.imread(path, cv2.IMREAD_COLOR)\n",
    "    img = cv2.cvtColor(img, cv2.COLOR_BGR2RGB)\n",
    "    return img\n",
    "\n",
    "normalize = transforms.Normalize(mean=[0.485, 0.456, 0.406],\n",
    "                                 std=[0.229, 0.224, 0.225])\n",
    "imagenet_transform = transforms.Compose([transforms.Resize(256), \n",
    "                                          transforms.CenterCrop(224), \n",
    "                                          transforms.ToTensor(), \n",
    "                                          normalize])\n",
    "imagenet_val = datasets.ImageNet('./', split='val', download=False, \n",
    "                                 transform=imagenet_transform)\n",
    "val_loader = torch.utils.data.DataLoader(\n",
    "    imagenet_val,\n",
    "    batch_size=128)"
   ]
  },
  {
   "cell_type": "code",
   "execution_count": 0,
   "metadata": {
    "colab": {},
    "colab_type": "code",
    "id": "QfXkq2-BkcX7"
   },
   "outputs": [],
   "source": [
    "def validate(val_loader, model, acc_fn, device):\n",
    "    # switch to evaluate mode\n",
    "    model.eval()\n",
    "    total_iter = len(val_loader)\n",
    "    cum_acc = 0\n",
    "    with torch.no_grad():\n",
    "        start = time.time()\n",
    "        for i, (images, target) in enumerate(val_loader):\n",
    "            images, target = images.to(device), target.to(device)\n",
    "            tic = time.time()\n",
    "            logits = model(images)\n",
    "            tac = time.time()\n",
    "            # measure accuracy\n",
    "            p = torch.nn.Softmax(dim=1)(logits)\n",
    "            _, y_hat = torch.topk(p, k=5, dim=1)\n",
    "            acc = acc_fn(y_hat.cpu().numpy(), target.cpu().numpy())\n",
    "            cum_acc += acc\n",
    "\n",
    "            print('Iteration {}, validation accuracy: {:.3f}, time: {}s'.format(i, acc, tac-tic))\n",
    "    end = time.time()\n",
    "    val_acc = cum_acc / total_iter\n",
    "    print('Validation accuracy: {:.3f}, time: {}s'.format(val_acc, end-start))\n",
    "    return val_acc"
   ]
  },
  {
   "cell_type": "code",
   "execution_count": 14,
   "metadata": {
    "colab": {
     "base_uri": "https://localhost:8080/",
     "height": 391
    },
    "colab_type": "code",
    "executionInfo": {
     "elapsed": 81262,
     "status": "ok",
     "timestamp": 1559183828254,
     "user": {
      "displayName": "Zhanyuan Zhang",
      "photoUrl": "",
      "userId": "08335047249365894118"
     },
     "user_tz": 420
    },
    "id": "FTDJ-BFZhS_H",
    "outputId": "f2a0c736-0d77-4786-ee73-936980a3e980"
   },
   "outputs": [
    {
     "name": "stdout",
     "output_type": "stream",
     "text": [
      "Iteration 0, validation accuracy: 0.930, time: 0.016033411026000977s\n",
      "Iteration 1, validation accuracy: 0.930, time: 0.007769346237182617s\n",
      "Iteration 2, validation accuracy: 0.945, time: 0.0077972412109375s\n",
      "Iteration 3, validation accuracy: 0.953, time: 0.007807016372680664s\n",
      "Iteration 4, validation accuracy: 0.906, time: 0.015614509582519531s\n",
      "Iteration 5, validation accuracy: 0.922, time: 0.00794363021850586s\n",
      "Iteration 6, validation accuracy: 0.938, time: 0.007865667343139648s\n",
      "Iteration 7, validation accuracy: 0.898, time: 0.008091926574707031s\n",
      "Iteration 8, validation accuracy: 0.867, time: 0.007904052734375s\n",
      "Iteration 9, validation accuracy: 0.812, time: 0.008068561553955078s\n",
      "Iteration 10, validation accuracy: 0.828, time: 0.007848978042602539s\n",
      "Iteration 11, validation accuracy: 0.828, time: 0.008934497833251953s\n",
      "Iteration 12, validation accuracy: 0.852, time: 0.009186744689941406s\n",
      "Iteration 13, validation accuracy: 0.805, time: 0.009407520294189453s\n",
      "Iteration 14, validation accuracy: 0.852, time: 0.007997274398803711s\n",
      "Iteration 15, validation accuracy: 0.859, time: 0.008332490921020508s\n",
      "Iteration 16, validation accuracy: 0.852, time: 0.008300304412841797s\n",
      "Iteration 17, validation accuracy: 0.789, time: 0.007745265960693359s\n",
      "Iteration 18, validation accuracy: 0.859, time: 0.007773399353027344s\n",
      "Iteration 19, validation accuracy: 0.906, time: 0.007927179336547852s\n",
      "Iteration 20, validation accuracy: 0.848, time: 0.007832050323486328s\n",
      "Validation accuracy: 0.875, time: 73.15759921073914s\n"
     ]
    }
   ],
   "source": [
    "val_acc_33 = validate(val_loader, bagnet33, get_topk_acc, device)"
   ]
  },
  {
   "cell_type": "code",
   "execution_count": 15,
   "metadata": {
    "colab": {
     "base_uri": "https://localhost:8080/",
     "height": 391
    },
    "colab_type": "code",
    "executionInfo": {
     "elapsed": 155495,
     "status": "ok",
     "timestamp": 1559183902506,
     "user": {
      "displayName": "Zhanyuan Zhang",
      "photoUrl": "",
      "userId": "08335047249365894118"
     },
     "user_tz": 420
    },
    "id": "in6JQwMGhqfM",
    "outputId": "ec04adc7-338a-4d6c-df1e-02006c15fcf9"
   },
   "outputs": [
    {
     "name": "stdout",
     "output_type": "stream",
     "text": [
      "Iteration 0, validation accuracy: 0.906, time: 0.008053064346313477s\n",
      "Iteration 1, validation accuracy: 0.898, time: 0.007922172546386719s\n",
      "Iteration 2, validation accuracy: 0.914, time: 0.007990598678588867s\n",
      "Iteration 3, validation accuracy: 0.859, time: 0.007681608200073242s\n",
      "Iteration 4, validation accuracy: 0.852, time: 0.008299112319946289s\n",
      "Iteration 5, validation accuracy: 0.922, time: 0.008082151412963867s\n",
      "Iteration 6, validation accuracy: 0.883, time: 0.007938146591186523s\n",
      "Iteration 7, validation accuracy: 0.836, time: 0.007857561111450195s\n",
      "Iteration 8, validation accuracy: 0.758, time: 0.007893800735473633s\n",
      "Iteration 9, validation accuracy: 0.789, time: 0.007750511169433594s\n",
      "Iteration 10, validation accuracy: 0.742, time: 0.008121013641357422s\n",
      "Iteration 11, validation accuracy: 0.766, time: 0.008245229721069336s\n",
      "Iteration 12, validation accuracy: 0.750, time: 0.008126974105834961s\n",
      "Iteration 13, validation accuracy: 0.727, time: 0.00885152816772461s\n",
      "Iteration 14, validation accuracy: 0.742, time: 0.008866310119628906s\n",
      "Iteration 15, validation accuracy: 0.773, time: 0.00940084457397461s\n",
      "Iteration 16, validation accuracy: 0.797, time: 0.00782012939453125s\n",
      "Iteration 17, validation accuracy: 0.695, time: 0.00771784782409668s\n",
      "Iteration 18, validation accuracy: 0.750, time: 0.007920026779174805s\n",
      "Iteration 19, validation accuracy: 0.898, time: 0.00797128677368164s\n",
      "Iteration 20, validation accuracy: 0.838, time: 0.007794857025146484s\n",
      "Validation accuracy: 0.814, time: 74.01885771751404s\n"
     ]
    }
   ],
   "source": [
    "val_acc_17 = validate(val_loader, bagnet17, get_topk_acc, device)"
   ]
  },
  {
   "cell_type": "code",
   "execution_count": 0,
   "metadata": {
    "colab": {},
    "colab_type": "code",
    "id": "oH6ALQIPkFT1"
   },
   "outputs": [],
   "source": []
  }
 ],
 "metadata": {
  "accelerator": "GPU",
  "colab": {
   "collapsed_sections": [],
   "name": "2019-5-28_check_accuracy.ipynb",
   "provenance": [],
   "version": "0.3.2"
  },
  "kernelspec": {
   "display_name": "Python 3",
   "language": "python",
   "name": "python3"
  },
  "language_info": {
   "codemirror_mode": {
    "name": "ipython",
    "version": 3
   },
   "file_extension": ".py",
   "mimetype": "text/x-python",
   "name": "python",
   "nbconvert_exporter": "python",
   "pygments_lexer": "ipython3",
   "version": "3.6.7"
  }
 },
 "nbformat": 4,
 "nbformat_minor": 1
}
